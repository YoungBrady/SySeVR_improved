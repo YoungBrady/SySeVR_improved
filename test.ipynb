{
 "cells": [
  {
   "cell_type": "code",
   "execution_count": null,
   "metadata": {},
   "outputs": [],
   "source": [
    "from Levenshtein import distance\n",
    "\n",
    "str1 = \"hello\"\n",
    "str2 = \"hola\"\n",
    "\n",
    "distance(str1, str2)\n",
    "\n"
   ]
  },
  {
   "cell_type": "code",
   "execution_count": null,
   "metadata": {},
   "outputs": [],
   "source": [
    "import json\n",
    "path='/home/sysevr/Implementation/source2slice/vulline_dict.json'\n",
    "with open(path) as f:\n",
    "    vull=json.load(f)\n",
    "print(len(vull))"
   ]
  },
  {
   "cell_type": "code",
   "execution_count": null,
   "metadata": {},
   "outputs": [],
   "source": [
    "import json\n",
    "label_path='/home/sysevr/Implementation/labels/labels.json'\n",
    "with open(label_path) as f:\n",
    "    labels=json.load(f)\n",
    "print(len(list(labels.keys())))"
   ]
  },
  {
   "cell_type": "code",
   "execution_count": null,
   "metadata": {},
   "outputs": [],
   "source": [
    "import os\n",
    "from tqdm import tqdm\n",
    "dir='/home/sysevr/Implementation/corpus'\n",
    "i=0\n",
    "for file in tqdm(os.listdir(dir)):\n",
    "    i+=1\n",
    "    if file=='CVE-2012-6618':\n",
    "        print(i)"
   ]
  },
  {
   "cell_type": "code",
   "execution_count": null,
   "metadata": {},
   "outputs": [],
   "source": [
    "import pickle\n",
    "from collections import Counter\n",
    "from tqdm import tqdm\n",
    "i=0\n",
    "for cve in tqdm(os.listdir('/home/sysevr/Implementation/corpus')):\n",
    "    for file in os.listdir('/home/sysevr/Implementation/corpus/'+cve):\n",
    "        with open('/home/sysevr/Implementation/corpus/'+cve+'/'+file, 'rb') as file:\n",
    "            data = pickle.load(file)[1]\n",
    "            element_count = Counter(data)\n",
    "            if element_count[1]>element_count[0]:\n",
    "                i+=1\n",
    "                print(element_count)\n",
    "print(i)\n"
   ]
  },
  {
   "cell_type": "code",
   "execution_count": null,
   "metadata": {},
   "outputs": [],
   "source": [
    "from tqdm import tqdm\n",
    "import json\n",
    "label_path='/home/sysevr/Implementation/labels/labels.json'\n",
    "with open(label_path, 'r') as f:\n",
    "    labellists = json.load(f)\n",
    "labels={}\n",
    "for key in tqdm(labellists.keys()):\n",
    "    try:\n",
    "        software=key.split('/')[7]\n",
    "        if software not in labels:\n",
    "            labels[software]={}\n",
    "        labels[software][key]=labellists[key]\n",
    "    except:\n",
    "        continue\n",
    "with open('/home/sysevr/Implementation/labels/labels2.json', 'w') as f:\n",
    "    json.dump(labels, f)"
   ]
  },
  {
   "cell_type": "code",
   "execution_count": null,
   "metadata": {},
   "outputs": [],
   "source": [
    "import os \n",
    "dir1='/home/sysevr/Implementation/label_source'\n",
    "dir2='/home/sysevr/Implementation/corpus'\n",
    "for dir in os.listdir(dir1):\n",
    "    for filename in os.listdir(dir1+'/'+dir):\n",
    "        if not os.path.exists(dir2+'/'+dir+'/'+\".\".join(filename.split(\".\")[:-1])+\".pkl\"):\n",
    "            print(dir+'/'+filename)"
   ]
  },
  {
   "cell_type": "code",
   "execution_count": null,
   "metadata": {},
   "outputs": [],
   "source": [
    "for cve in os.listdir(dir1):\n",
    "    if cve=='CVE-2017-6886':\n",
    "        print(1)\n",
    "    if os.path.exists(os.path.join(dir2, cve)) and os.listdir(os.path.join(dir2, cve))!=[]:\n",
    "        continue\n",
    "    if os.listdir(os.path.join(dir1, cve))==[]:\n",
    "        continue\n",
    "    print(cve)"
   ]
  },
  {
   "cell_type": "code",
   "execution_count": null,
   "metadata": {},
   "outputs": [],
   "source": [
    "my_list = [1, 2, 3, 5, 6]\n",
    "\n",
    "# 在索引为3的位置插入元素4\n",
    "my_list.insert(3, 4)\n",
    "\n",
    "print(my_list)\n"
   ]
  },
  {
   "cell_type": "code",
   "execution_count": null,
   "metadata": {},
   "outputs": [],
   "source": [
    "import pickle,os\n",
    "from multiprocessing import Pool\n",
    "from tqdm import tqdm\n",
    "corpus_path='/home/sysevr/Implementation/corpus'\n",
    "vector_path='/home/sysevr/Implementation/vector'\n",
    "def insert_focus(params):\n",
    "    vector_path,corpus_path,cve,filename=params\n",
    "    with open(vector_path+'/'+cve+'/'+filename,'rb') as f:\n",
    "            data=pickle.load(f)\n",
    "    if len(data)<5:\n",
    "        if os.path.exists(corpus_path+'/'+cve+'/'+filename):\n",
    "            with open(corpus_path+'/'+cve+'/'+filename,'rb') as f:\n",
    "                data2=pickle.load(f)\n",
    "            data.insert(2,data2[2])\n",
    "            with open(vector_path+'/'+cve+'/'+filename,'wb')as f:\n",
    "                pickle.dump(data,f)\n",
    "        else:\n",
    "            print(corpus_path+'/'+cve+'/'+filename)\n",
    "params=[]\n",
    "for cve in os.listdir(vector_path):\n",
    "    for filename in os.listdir(vector_path+'/'+cve):\n",
    "        params.append((vector_path,corpus_path,cve,filename))\n",
    "pbar=tqdm(total=len(params))\n",
    "with Pool(32) as pool:\n",
    "    rets=pool.imap_unordered(insert_focus,params)\n",
    "    for ret in rets:\n",
    "        pbar.update(1)"
   ]
  },
  {
   "cell_type": "code",
   "execution_count": 7,
   "metadata": {},
   "outputs": [
    {
     "name": "stdout",
     "output_type": "stream",
     "text": [
      "CVE-2016-6511 pointersuse_slices.pkl 140.5506010055542\n",
      "CVE-2016-2523 pointersuse_slices.pkl 124.33178520202637\n",
      "CVE-2018-5807 api_slices.pkl 393.6076536178589\n",
      "CVE-2017-14608 api_slices.pkl 250.02237510681152\n",
      "CVE-2017-16910 api_slices.pkl 171.86107730865479\n",
      "CVE-2016-4078 pointersuse_slices.pkl 104.48636245727539\n",
      "CVE-2018-7873 pointersuse_slices.pkl 182.438157081604\n",
      "CVE-2018-7873 api_slices.pkl 243.47217845916748\n",
      "CVE-2016-2316 pointersuse_slices.pkl 235.90838432312012\n",
      "CVE-2018-3620 pointersuse_slices.pkl 291.8369827270508\n",
      "CVE-2016-9829 api_slices.pkl 189.25826358795166\n",
      "CVE-2017-11732 api_slices.pkl 100.38392543792725\n",
      "CVE-2018-5806 api_slices.pkl 290.6849002838135\n",
      "CVE-2018-5816 api_slices.pkl 287.95622062683105\n",
      "CVE-2019-13161 pointersuse_slices.pkl 316.18505096435547\n",
      "CVE-2019-12982 pointersuse_slices.pkl 282.9946575164795\n",
      "CVE-2019-12982 api_slices.pkl 391.24685287475586\n",
      "CVE-2017-6886 pointersuse_slices.pkl 111.56930923461914\n",
      "CVE-2018-7868 pointersuse_slices.pkl 125.10625648498535\n",
      "CVE-2018-7868 api_slices.pkl 203.63299465179443\n",
      "CVE-2017-5597 integeroverflow_slices.pkl 103.30816459655762\n",
      "CVE-2013-1918 pointersuse_slices.pkl 182.02942943572998\n",
      "CVE-2019-15118 pointersuse_slices.pkl 209.80572605133057\n",
      "CVE-2015-6241 pointersuse_slices.pkl 105.75277423858643\n",
      "CVE-2018-14339 pointersuse_slices.pkl 191.8286371231079\n",
      "CVE-2016-0718 pointersuse_slices.pkl 111.657790184021\n",
      "CVE-2017-11704 api_slices.pkl 107.54955196380615\n",
      "CVE-2017-11733 api_slices.pkl 104.27700424194336\n",
      "CVE-2017-9761 pointersuse_slices.pkl 145.0865421295166\n",
      "CVE-2017-9761 api_slices.pkl 233.37474632263184\n",
      "CVE-2016-4006 pointersuse_slices.pkl 121.15780258178711\n",
      "CVE-2018-11226 pointersuse_slices.pkl 228.26536464691162\n",
      "CVE-2018-11226 api_slices.pkl 340.8877696990967\n",
      "CVE-2015-6248 pointersuse_slices.pkl 112.00678253173828\n",
      "CVE-2018-9009 pointersuse_slices.pkl 122.69288539886475\n",
      "CVE-2018-9009 api_slices.pkl 143.42747497558594\n",
      "CVE-2017-6887 api_slices.pkl 220.54762840270996\n",
      "CVE-2018-7324 pointersuse_slices.pkl 243.17011165618896\n",
      "CVE-2019-18790 pointersuse_slices.pkl 134.80284023284912\n",
      "CVE-2018-11359 pointersuse_slices.pkl 177.07056999206543\n",
      "CVE-2018-7866 pointersuse_slices.pkl 114.84582901000977\n",
      "CVE-2018-7866 api_slices.pkl 139.27922916412354\n",
      "CVE-2018-0739 pointersuse_slices.pkl 104.25237464904785\n",
      "CVE-2018-7867 pointersuse_slices.pkl 273.2481155395508\n",
      "CVE-2018-7867 api_slices.pkl 362.0086498260498\n",
      "CVE-2018-5811 api_slices.pkl 323.2975158691406\n",
      "CVE-2018-5812 api_slices.pkl 268.4334945678711\n",
      "CVE-2009-0029 pointersuse_slices.pkl 169.41740226745605\n",
      "CVE-2017-17090 pointersuse_slices.pkl 104.85676860809326\n",
      "CVE-2018-5815 api_slices.pkl 267.4930839538574\n",
      "29.08226807694882\n"
     ]
    }
   ],
   "source": [
    "import os,pickle\n",
    "vector_path='/home/sysevr/Implementation/vector'\n",
    "i=0\n",
    "sum_filesize=0\n",
    "for cve in os.listdir(vector_path):\n",
    "    for filename in os.listdir(vector_path+'/'+cve):\n",
    "        filesize=os.path.getsize(vector_path+'/'+cve+'/'+filename)/1024/1024\n",
    "        sum_filesize+=filesize\n",
    "        if filesize>100:\n",
    "            print(cve,filename,filesize)\n",
    "            i+=1\n",
    "            # with open(vector_path+'/'+cve+'/'+filename,'rb') as f:\n",
    "            #     data=pickle.load(f)\n",
    "            #     print(len(data[2]))\n",
    "print(sum_filesize/1024)  "
   ]
  },
  {
   "cell_type": "code",
   "execution_count": null,
   "metadata": {},
   "outputs": [],
   "source": []
  }
 ],
 "metadata": {
  "kernelspec": {
   "display_name": "base",
   "language": "python",
   "name": "python3"
  },
  "language_info": {
   "codemirror_mode": {
    "name": "ipython",
    "version": 3
   },
   "file_extension": ".py",
   "mimetype": "text/x-python",
   "name": "python",
   "nbconvert_exporter": "python",
   "pygments_lexer": "ipython3",
   "version": "3.7.4"
  }
 },
 "nbformat": 4,
 "nbformat_minor": 2
}
